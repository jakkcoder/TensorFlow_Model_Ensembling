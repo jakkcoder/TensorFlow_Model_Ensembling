{
 "cells": [
  {
   "cell_type": "code",
   "execution_count": 18,
   "metadata": {},
   "outputs": [],
   "source": [
    "import numpy as np \n",
    "import pandas as pd \n",
    "import tensorflow as tf\n",
    "from sklearn.preprocessing import OneHotEncoder\n",
    "from numpy import array,argmax\n",
    "from sklearn.preprocessing import LabelEncoder\n",
    "# import seaborn as sn"
   ]
  },
  {
   "cell_type": "code",
   "execution_count": 19,
   "metadata": {},
   "outputs": [],
   "source": [
    "ENetb7_testing_act = np.load('numpy_data/efficientNetb7_testing_actual.npy')\n",
    "ENetb7_testing_pre = np.load('numpy_data/efficientNetb7_testing_predicted.npy')\n",
    "ENetb1_testing_pre = np.load('numpy_data/efficientNetb1_testing_predicted.npy')\n",
    "ENetb1_testing_act = np.load('numpy_data/efficientNetb1_testing_actual.npy')"
   ]
  },
  {
   "cell_type": "code",
   "execution_count": 20,
   "metadata": {},
   "outputs": [],
   "source": [
    "integer_encoded = ENetb7_testing_act\n",
    "onehot_encoder = OneHotEncoder(sparse=False)\n",
    "integer_encoded = integer_encoded.reshape(len(integer_encoded), 1)\n",
    "output_vec = onehot_encoder.fit_transform(integer_encoded)"
   ]
  },
  {
   "cell_type": "code",
   "execution_count": 21,
   "metadata": {},
   "outputs": [],
   "source": [
    "ENetb1_testing_pre_u = []\n",
    "for i in range(ENetb1_testing_pre.shape[0]):\n",
    "    ENetb1_testing_pre_u.append(ENetb1_testing_pre[i][0])\n",
    "    \n",
    "ENetb7_testing_pre_u = []\n",
    "for i in range(ENetb7_testing_pre.shape[0]):\n",
    "    ENetb7_testing_pre_u.append(ENetb7_testing_pre[i][0])"
   ]
  },
  {
   "cell_type": "code",
   "execution_count": 22,
   "metadata": {},
   "outputs": [],
   "source": [
    "input_vec = np.dstack([ENetb1_testing_pre_u,ENetb7_testing_pre_u])"
   ]
  },
  {
   "cell_type": "code",
   "execution_count": 23,
   "metadata": {},
   "outputs": [
    {
     "data": {
      "text/plain": [
       "array([[1.0000000e+00, 9.9999976e-01],\n",
       "       [8.6461185e-11, 1.7408821e-07],\n",
       "       [1.0897676e-11, 3.0080388e-10],\n",
       "       [1.2556078e-14, 1.2071452e-09],\n",
       "       [1.1384914e-14, 9.2887378e-09],\n",
       "       [4.4942853e-17, 2.0896671e-08],\n",
       "       [2.9252041e-15, 9.7620740e-12],\n",
       "       [4.4231835e-20, 9.1602602e-14],\n",
       "       [5.2400982e-18, 5.2043140e-12],\n",
       "       [4.8601803e-19, 1.8993693e-10],\n",
       "       [7.6285488e-17, 2.0801964e-10]], dtype=float32)"
      ]
     },
     "execution_count": 23,
     "metadata": {},
     "output_type": "execute_result"
    }
   ],
   "source": [
    "input_vec[0]"
   ]
  },
  {
   "cell_type": "code",
   "execution_count": 24,
   "metadata": {},
   "outputs": [
    {
     "data": {
      "text/plain": [
       "(3288, 11, 2)"
      ]
     },
     "execution_count": 24,
     "metadata": {},
     "output_type": "execute_result"
    }
   ],
   "source": [
    "input_vec.shape"
   ]
  },
  {
   "cell_type": "code",
   "execution_count": 28,
   "metadata": {},
   "outputs": [],
   "source": [
    "model = tf.keras.Sequential([tf.keras.layers.InputLayer(input_shape=(11,2))\n",
    "                            ,tf.keras.layers.Dense(units=11, activation=tf.nn.sigmoid),\n",
    "                             tf.keras.layers.Dense(units=33, activation=tf.nn.sigmoid),\n",
    "                             tf.keras.layers.Dense(units=11, activation=tf.nn.sigmoid),\n",
    "                            tf.keras.layers.Dense(units=1, activation=tf.nn.sigmoid),\n",
    "                            tf.keras.layers.Flatten()])\n",
    "  "
   ]
  },
  {
   "cell_type": "code",
   "execution_count": 29,
   "metadata": {},
   "outputs": [
    {
     "name": "stdout",
     "output_type": "stream",
     "text": [
      "Model: \"sequential_3\"\n",
      "_________________________________________________________________\n",
      "Layer (type)                 Output Shape              Param #   \n",
      "=================================================================\n",
      "dense_12 (Dense)             (None, 11, 11)            33        \n",
      "_________________________________________________________________\n",
      "dense_13 (Dense)             (None, 11, 33)            396       \n",
      "_________________________________________________________________\n",
      "dense_14 (Dense)             (None, 11, 11)            374       \n",
      "_________________________________________________________________\n",
      "dense_15 (Dense)             (None, 11, 1)             12        \n",
      "_________________________________________________________________\n",
      "flatten_3 (Flatten)          (None, 11)                0         \n",
      "=================================================================\n",
      "Total params: 815\n",
      "Trainable params: 815\n",
      "Non-trainable params: 0\n",
      "_________________________________________________________________\n"
     ]
    }
   ],
   "source": [
    "model.summary()"
   ]
  },
  {
   "cell_type": "code",
   "execution_count": 30,
   "metadata": {},
   "outputs": [],
   "source": [
    "np.random.seed = 5"
   ]
  },
  {
   "cell_type": "code",
   "execution_count": 31,
   "metadata": {
    "scrolled": true
   },
   "outputs": [
    {
     "name": "stdout",
     "output_type": "stream",
     "text": [
      "Epoch 1/5\n",
      "103/103 [==============================] - 0s 1ms/step - loss: 2.2837\n",
      "Epoch 2/5\n",
      "103/103 [==============================] - 0s 1ms/step - loss: 1.1777\n",
      "Epoch 3/5\n",
      "103/103 [==============================] - 0s 1ms/step - loss: 0.2149\n",
      "Epoch 4/5\n",
      "103/103 [==============================] - 0s 1ms/step - loss: 0.0918\n",
      "Epoch 5/5\n",
      "103/103 [==============================] - 0s 1ms/step - loss: 0.0603\n"
     ]
    },
    {
     "data": {
      "text/plain": [
       "<tensorflow.python.keras.callbacks.History at 0x26818926588>"
      ]
     },
     "execution_count": 31,
     "metadata": {},
     "output_type": "execute_result"
    }
   ],
   "source": [
    "model.compile(optimizer='adam', loss='CategoricalCrossentropy',)\n",
    "model.fit(x=input_vec,y=output_vec,epochs=5)"
   ]
  },
  {
   "cell_type": "markdown",
   "metadata": {},
   "source": [
    "## EfficientNetB1 confusion matrix"
   ]
  },
  {
   "cell_type": "code",
   "execution_count": 32,
   "metadata": {},
   "outputs": [
    {
     "name": "stdout",
     "output_type": "stream",
     "text": [
      "Predicted   0    1    2    3    4    5    6    7    8    9    10\n",
      "Actual                                                          \n",
      "0          345    0    0    0    0    0    0    0    0    0    0\n",
      "1            0  270    0    0    0    0    0    0    0    0    0\n",
      "2            0    0  345    0    0    0    0    0    0    0    0\n",
      "3            0    0    0  331    0    0    0    0    0    0    0\n",
      "4            0    0    0    0  342    0    3    0    0    0    0\n",
      "5            0    0    0    2    0  329    0    0    0    0    0\n",
      "6            0    0    0    0    1    0  256    0    0    0    0\n",
      "7            0    0    0    0    0    0    0  215    0    0    0\n",
      "8            0    0    0    0    0    0    0    0  332    3    0\n",
      "9            0    0    0    0    0    0    0    0    1  214    0\n",
      "10           0    0    0    0    0    0    0    0    2    7  290\n",
      "Test accuracy : 99.42214111922141\n"
     ]
    }
   ],
   "source": [
    "predicted_class = []\n",
    "for i in ENetb1_testing_pre:\n",
    "    predicted_class.append(i.argmax())\n",
    "actual_class = ENetb1_testing_act\n",
    "out_df = pd.DataFrame(np.vstack([predicted_class,actual_class]).T,columns=['predicted_class','actual_class'])\n",
    "confusion_matrix = pd.crosstab(out_df['actual_class'],out_df['predicted_class'], rownames=['Actual'], colnames=['Predicted'])\n",
    "print(confusion_matrix)\n",
    "print('Test accuracy : {}'.format((np.diagonal(confusion_matrix).sum()/confusion_matrix.sum().sum()*100)))\n",
    "out_df.to_csv('B1_model_out.csv')"
   ]
  },
  {
   "cell_type": "markdown",
   "metadata": {},
   "source": [
    "## EfficientNetB7 confusion matrix\n"
   ]
  },
  {
   "cell_type": "code",
   "execution_count": 33,
   "metadata": {},
   "outputs": [
    {
     "name": "stdout",
     "output_type": "stream",
     "text": [
      "Predicted   0    1    2    3    4    5    6    7    8    9    10\n",
      "Actual                                                          \n",
      "0          345    0    0    0    0    0    0    0    0    0    0\n",
      "1            0  270    0    0    0    0    0    0    0    0    0\n",
      "2            0    0  345    0    0    0    0    0    0    0    0\n",
      "3            0    0    0  328    0    1    0    0    0    2    0\n",
      "4            0    0    0    0  344    0    1    0    0    0    0\n",
      "5            0    0    0    0    0  331    0    0    0    0    0\n",
      "6            0    0    0    0    0    0  257    0    0    0    0\n",
      "7            0    0    0    0    0    0    0  215    0    0    0\n",
      "8            0    0    0    0    0    0    0    0  335    0    0\n",
      "9            0    0    0    0    0    0    0    0    5  209    1\n",
      "10           0    0    0    0    0    0    0    0    6    2  291\n",
      "Test accuracy : 99.45255474452554\n"
     ]
    }
   ],
   "source": [
    "predicted_class = []\n",
    "for i in ENetb7_testing_pre:\n",
    "    predicted_class.append(i.argmax())\n",
    "actual_class = ENetb7_testing_act\n",
    "out_df = pd.DataFrame(np.vstack([predicted_class,actual_class]).T,columns=['predicted_class','actual_class'])\n",
    "confusion_matrix = pd.crosstab(out_df['actual_class'],out_df['predicted_class'], rownames=['Actual'], colnames=['Predicted'])\n",
    "print(confusion_matrix)\n",
    "print('Test accuracy : {}'.format((np.diagonal(confusion_matrix).sum()/confusion_matrix.sum().sum()*100)))\n",
    "out_df.to_csv('B7_model_out.csv')"
   ]
  },
  {
   "cell_type": "markdown",
   "metadata": {},
   "source": [
    "## Combined model confusion matrix\n"
   ]
  },
  {
   "cell_type": "code",
   "execution_count": 34,
   "metadata": {
    "scrolled": true
   },
   "outputs": [
    {
     "name": "stdout",
     "output_type": "stream",
     "text": [
      "WARNING:tensorflow:Model was constructed with shape (None, 11, 2) for input Tensor(\"input_4:0\", shape=(None, 11, 2), dtype=float32), but it was called on an input with incompatible shape (None, 2).\n",
      "Predicted   0    1    2    3    4    5    6    7    8    9    10\n",
      "Actual                                                          \n",
      "0          345    0    0    0    0    0    0    0    0    0    0\n",
      "1            0  270    0    0    0    0    0    0    0    0    0\n",
      "2            0    0  345    0    0    0    0    0    0    0    0\n",
      "3            0    0    0  328    0    1    0    0    0    2    0\n",
      "4            0    0    0    0  344    0    1    0    0    0    0\n",
      "5            0    0    0    0    0  331    0    0    0    0    0\n",
      "6            0    0    0    0    0    0  257    0    0    0    0\n",
      "7            0    0    0    0    0    0    0  215    0    0    0\n",
      "8            0    0    0    0    0    0    0    0  334    1    0\n",
      "9            0    0    0    0    0    0    0    0    2  213    0\n",
      "10           0    0    0    0    0    0    0    0    4    2  293\n",
      "Test accuracy : 99.60462287104623\n"
     ]
    }
   ],
   "source": [
    "predicted_class = []\n",
    "for i in range(ENetb7_testing_pre.shape[0]):\n",
    "    predicted_class.append(model.predict(input_vec[i]).argmax())\n",
    "actual_class = ENetb7_testing_act\n",
    "out_df = pd.DataFrame(np.vstack([predicted_class,actual_class]).T,columns=['predicted_class','actual_class'])\n",
    "confusion_matrix = pd.crosstab(out_df['actual_class'],out_df['predicted_class'], rownames=['Actual'], colnames=['Predicted'])\n",
    "print(confusion_matrix)\n",
    "print('Test accuracy : {}'.format((np.diagonal(confusion_matrix).sum()/confusion_matrix.sum().sum()*100)))"
   ]
  }
 ],
 "metadata": {
  "kernelspec": {
   "display_name": "Python 3",
   "language": "python",
   "name": "python3"
  },
  "language_info": {
   "codemirror_mode": {
    "name": "ipython",
    "version": 3
   },
   "file_extension": ".py",
   "mimetype": "text/x-python",
   "name": "python",
   "nbconvert_exporter": "python",
   "pygments_lexer": "ipython3",
   "version": "3.7.6"
  }
 },
 "nbformat": 4,
 "nbformat_minor": 4
}
